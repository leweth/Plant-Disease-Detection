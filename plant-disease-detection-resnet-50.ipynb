{
 "cells": [
  {
   "cell_type": "markdown",
   "metadata": {},
   "source": [
    "## Plant disease detection using a Fine tuned ResNet50"
   ]
  },
  {
   "cell_type": "markdown",
   "metadata": {},
   "source": [
    "----------------"
   ]
  },
  {
   "cell_type": "markdown",
   "metadata": {},
   "source": [
    "Defining the path to the Dataset"
   ]
  },
  {
   "cell_type": "code",
   "execution_count": 1,
   "metadata": {
    "execution": {
     "iopub.execute_input": "2025-01-10T21:25:10.789378Z",
     "iopub.status.busy": "2025-01-10T21:25:10.789111Z",
     "iopub.status.idle": "2025-01-10T21:25:10.793770Z",
     "shell.execute_reply": "2025-01-10T21:25:10.792813Z",
     "shell.execute_reply.started": "2025-01-10T21:25:10.789342Z"
    },
    "trusted": true
   },
   "outputs": [],
   "source": [
    "path = '/kaggle/input/plantvillage-dataset/color'"
   ]
  },
  {
   "cell_type": "code",
   "execution_count": 2,
   "metadata": {
    "execution": {
     "iopub.execute_input": "2025-01-10T21:25:10.795318Z",
     "iopub.status.busy": "2025-01-10T21:25:10.794817Z",
     "iopub.status.idle": "2025-01-10T21:26:25.375784Z",
     "shell.execute_reply": "2025-01-10T21:26:25.375009Z",
     "shell.execute_reply.started": "2025-01-10T21:25:10.795279Z"
    },
    "id": "4T5hMik3QjKO",
    "trusted": true
   },
   "outputs": [],
   "source": [
    "from torchvision import datasets\n",
    "\n",
    "# Load the full dataset without transformations\n",
    "full_dataset = datasets.ImageFolder(\n",
    "    root=path,\n",
    "    transform=None  # No transformations applied yet\n",
    ")"
   ]
  },
  {
   "cell_type": "code",
   "execution_count": 3,
   "metadata": {
    "colab": {
     "base_uri": "https://localhost:8080/"
    },
    "execution": {
     "iopub.execute_input": "2025-01-10T21:26:25.377198Z",
     "iopub.status.busy": "2025-01-10T21:26:25.376700Z",
     "iopub.status.idle": "2025-01-10T21:26:25.415310Z",
     "shell.execute_reply": "2025-01-10T21:26:25.414481Z",
     "shell.execute_reply.started": "2025-01-10T21:26:25.377164Z"
    },
    "id": "Js7OcGaaQoZ2",
    "outputId": "4905e9c3-daac-465e-cf10-6314597c13a2",
    "trusted": true
   },
   "outputs": [
    {
     "name": "stdout",
     "output_type": "stream",
     "text": [
      "Training set size: 32583\n",
      "Validation set size: 10861\n",
      "Test set size: 10861\n"
     ]
    }
   ],
   "source": [
    "import torch\n",
    "\n",
    "# Define the sizes for the splits\n",
    "train_size = int(0.6 * len(full_dataset))# Train the model\n",
    "val_size = int(0.2 * len(full_dataset))\n",
    "test_size = len(full_dataset) - train_size - val_size\n",
    "\n",
    "# Split the dataset\n",
    "train_dataset, val_dataset, test_dataset = torch.utils.data.random_split(\n",
    "    full_dataset, [train_size, val_size, test_size]\n",
    ")\n",
    "\n",
    "print(f\"Training set size: {len(train_dataset)}\")\n",
    "print(f\"Validation set size: {len(val_dataset)}\")\n",
    "print(f\"Test set size: {len(test_dataset)}\")"
   ]
  },
  {
   "cell_type": "code",
   "execution_count": 4,
   "metadata": {
    "execution": {
     "iopub.execute_input": "2025-01-10T21:26:25.416711Z",
     "iopub.status.busy": "2025-01-10T21:26:25.416296Z",
     "iopub.status.idle": "2025-01-10T21:26:25.422421Z",
     "shell.execute_reply": "2025-01-10T21:26:25.421389Z",
     "shell.execute_reply.started": "2025-01-10T21:26:25.416671Z"
    },
    "id": "GO9bdcU5Mlhn",
    "trusted": true
   },
   "outputs": [],
   "source": [
    "from torchvision import transforms\n",
    "\n",
    "# Define transformations for training set (with data augmentation)\n",
    "train_transform = transforms.Compose([\n",
    "    transforms.RandomResizedCrop(224),\n",
    "    transforms.RandomHorizontalFlip(),\n",
    "    transforms.ToTensor(),\n",
    "    transforms.Normalize([0.485, 0.456, 0.406], [0.229, 0.224, 0.225])\n",
    "])\n",
    "\n",
    "# Define transformations for validation and test sets (basic preprocessing)\n",
    "val_test_transform = transforms.Compose([\n",
    "    transforms.Resize(256),\n",
    "    transforms.CenterCrop(224),\n",
    "    transforms.ToTensor(),\n",
    "    transforms.Normalize([0.485, 0.456, 0.406], [0.229, 0.224, 0.225])\n",
    "])"
   ]
  },
  {
   "cell_type": "code",
   "execution_count": 10,
   "metadata": {
    "execution": {
     "iopub.execute_input": "2025-01-10T21:27:33.452101Z",
     "iopub.status.busy": "2025-01-10T21:27:33.451738Z",
     "iopub.status.idle": "2025-01-10T21:28:15.009193Z",
     "shell.execute_reply": "2025-01-10T21:28:15.008422Z",
     "shell.execute_reply.started": "2025-01-10T21:27:33.452071Z"
    },
    "id": "De2vUYFOMxac",
    "trusted": true
   },
   "outputs": [],
   "source": [
    "from torchvision.datasets import ImageFolder\n",
    "from torch.utils.data import Subset\n",
    "\n",
    "# Function to apply transformations to a subset\n",
    "def apply_transform(subset, transform):\n",
    "    # Create a new dataset with the same samples but new transform\n",
    "    dataset = ImageFolder(root=full_dataset.root, transform=transform)\n",
    "    return Subset(dataset, subset.indices)\n",
    "\n",
    "# Apply transformations to each subset\n",
    "train_dataset = apply_transform(train_dataset, train_transform)\n",
    "val_dataset = apply_transform(val_dataset, val_test_transform)\n",
    "test_dataset = apply_transform(test_dataset, val_test_transform)"
   ]
  },
  {
   "cell_type": "code",
   "execution_count": 6,
   "metadata": {
    "execution": {
     "iopub.execute_input": "2025-01-10T14:14:46.669656Z",
     "iopub.status.busy": "2025-01-10T14:14:46.669428Z",
     "iopub.status.idle": "2025-01-10T14:14:46.674746Z",
     "shell.execute_reply": "2025-01-10T14:14:46.673915Z",
     "shell.execute_reply.started": "2025-01-10T14:14:46.669636Z"
    },
    "id": "OwwhVgjxRHOn",
    "jupyter": {
     "source_hidden": true
    },
    "trusted": true
   },
   "outputs": [],
   "source": [
    "batch_size = 32  # Adjust as needed\n",
    "\n",
    "# Create data loaders\n",
    "train_loader = torch.utils.data.DataLoader(\n",
    "    train_dataset, batch_size=batch_size, shuffle=True, num_workers=2\n",
    ")\n",
    "\n",
    "val_loader = torch.utils.data.DataLoader(\n",
    "    val_dataset, batch_size=batch_size, shuffle=False, num_workers=2\n",
    ")\n",
    "\n",
    "test_loader = torch.utils.data.DataLoader(\n",
    "    test_dataset, batch_size=batch_size, shuffle=False, num_workers=2\n",
    ")"
   ]
  },
  {
   "cell_type": "code",
   "execution_count": 11,
   "metadata": {
    "execution": {
     "iopub.execute_input": "2025-01-10T21:28:15.010741Z",
     "iopub.status.busy": "2025-01-10T21:28:15.010393Z",
     "iopub.status.idle": "2025-01-10T21:28:15.549874Z",
     "shell.execute_reply": "2025-01-10T21:28:15.549080Z",
     "shell.execute_reply.started": "2025-01-10T21:28:15.010710Z"
    },
    "id": "NZPzBdoHs8yM",
    "trusted": true
   },
   "outputs": [],
   "source": [
    "from torchvision import models\n",
    "\n",
    "# Load a pre-trained ResNet model\n",
    "model = models.resnet50(pretrained=True)\n",
    "\n",
    "# Modify the final fully connected layer to match the number of classes\n",
    "num_ftrs = model.fc.in_features\n",
    "model.fc = torch.nn.Linear(num_ftrs, 39)  # 38 classes and one folder for non leave images\n",
    "\n",
    "# Move the model to the GPU if available\n",
    "device = torch.device(\"cuda:0\" if torch.cuda.is_available() else \"cpu\")\n",
    "model = model.to(device)"
   ]
  },
  {
   "cell_type": "code",
   "execution_count": 12,
   "metadata": {
    "execution": {
     "iopub.execute_input": "2025-01-10T21:28:15.551327Z",
     "iopub.status.busy": "2025-01-10T21:28:15.551055Z",
     "iopub.status.idle": "2025-01-10T21:28:15.556712Z",
     "shell.execute_reply": "2025-01-10T21:28:15.555917Z",
     "shell.execute_reply.started": "2025-01-10T21:28:15.551306Z"
    },
    "id": "pdT-uRFxtDoz",
    "trusted": true
   },
   "outputs": [],
   "source": [
    "criterion = torch.nn.CrossEntropyLoss()\n",
    "optimizer = torch.optim.SGD(model.parameters(), lr=0.001, momentum=0.9)\n",
    "#optimizer = torch.optim.Adagrad(model.parameters(), lr= 0.001)"
   ]
  },
  {
   "cell_type": "code",
   "execution_count": 14,
   "metadata": {
    "execution": {
     "iopub.execute_input": "2025-01-10T21:43:56.585292Z",
     "iopub.status.busy": "2025-01-10T21:43:56.584866Z",
     "iopub.status.idle": "2025-01-10T21:43:56.595052Z",
     "shell.execute_reply": "2025-01-10T21:43:56.593940Z",
     "shell.execute_reply.started": "2025-01-10T21:43:56.585263Z"
    },
    "id": "6czZ-i7etHu5",
    "trusted": true
   },
   "outputs": [],
   "source": [
    "import csv\n",
    "import time\n",
    "\n",
    "def train_model(model, criterion, optimizer, train_loader, val_loader, num_epochs=25):\n",
    "    # Prepare to store results\n",
    "    train_size = len(train_loader.dataset)\n",
    "    val_size = len(val_loader.dataset)\n",
    "    results_file = \"training_log.csv\"\n",
    "    header = ['epoch', 'train_loss', 'train_acc', 'val_loss', 'val_acc', 'time_elapsed']\n",
    "\n",
    "    # Open CSV and write the header\n",
    "    with open(results_file, 'w', newline='') as f:\n",
    "        writer = csv.writer(f)\n",
    "        writer.writerow(header)\n",
    "\n",
    "    for epoch in range(num_epochs):\n",
    "        start_time = time.time()\n",
    "        print(f'Epoch {epoch + 1}/{num_epochs}')\n",
    "        print('-' * 10)\n",
    "\n",
    "        # Track metrics for both phases\n",
    "        metrics = {'train_loss': 0.0, 'train_acc': 0.0, 'val_loss': 0.0, 'val_acc': 0.0}\n",
    "        \n",
    "        for phase, loader in zip(['train', 'val'], [train_loader, val_loader]):\n",
    "            if phase == 'train':\n",
    "                model.train()\n",
    "            else:\n",
    "                model.eval()\n",
    "        \n",
    "            running_loss = 0.0\n",
    "            running_corrects = 0\n",
    "\n",
    "            for inputs, labels in loader:\n",
    "                inputs = inputs.to(device)\n",
    "                labels = labels.to(device)\n",
    "\n",
    "                optimizer.zero_grad()\n",
    "\n",
    "                with torch.set_grad_enabled(phase == 'train'):\n",
    "                    outputs = model(inputs)\n",
    "                    _, preds = torch.max(outputs, 1)\n",
    "                    loss = criterion(outputs, labels)\n",
    "\n",
    "                    if phase == 'train':\n",
    "                        loss.backward()\n",
    "                        optimizer.step()\n",
    "\n",
    "                # Update metrics\n",
    "                running_loss += loss.item() * inputs.size(0)\n",
    "                running_corrects += torch.sum(preds == labels.data)\n",
    "\n",
    "        \n",
    "            # Finalize metrics for the epoch\n",
    "            epoch_loss = running_loss / (train_size if phase == 'train' else val_size)\n",
    "            epoch_acc = running_corrects.double() / (train_size if phase == 'train' else val_size)\n",
    "            metrics[f'{phase}_loss'] = epoch_loss\n",
    "            metrics[f'{phase}_acc'] = epoch_acc\n",
    "\n",
    "            \n",
    "            print(f'{phase} Loss: {epoch_loss:.4f} Acc: {epoch_acc:.4f}')\n",
    "\n",
    "\n",
    "        # Record time and write to CSV\n",
    "        time_elapsed = time.time() - start_time\n",
    "        with open(results_file, 'a', newline='') as f:\n",
    "            writer = csv.writer(f)\n",
    "            writer.writerow([epoch + 1, metrics['train_loss'], metrics['train_acc'],\n",
    "                             metrics['val_loss'], metrics['val_acc'], time_elapsed])\n",
    "\n",
    "    print(f\"\\nTraining complete! Results saved to {results_file}\")\n",
    "    return model\n"
   ]
  },
  {
   "cell_type": "code",
   "execution_count": null,
   "metadata": {
    "colab": {
     "base_uri": "https://localhost:8080/"
    },
    "execution": {
     "iopub.execute_input": "2025-01-10T14:14:48.129550Z",
     "iopub.status.busy": "2025-01-10T14:14:48.129227Z"
    },
    "id": "pRu3IfwcbPtp",
    "outputId": "bd95ed4e-1fa6-43f8-c820-8db7f55d9dfa",
    "trusted": true
   },
   "outputs": [
    {
     "name": "stdout",
     "output_type": "stream",
     "text": [
      "Epoch 1/10\n",
      "----------\n",
      "train Loss: 0.3284 Acc: 0.9102\n",
      "val Loss: 0.0627 Acc: 0.9803\n",
      "Epoch 2/10\n",
      "----------\n",
      "train Loss: 0.1122 Acc: 0.9676\n",
      "val Loss: 0.0439 Acc: 0.9874\n",
      "Epoch 3/10\n",
      "----------\n",
      "train Loss: 0.0878 Acc: 0.9743\n",
      "val Loss: 0.0451 Acc: 0.9852\n",
      "Epoch 4/10\n",
      "----------\n",
      "train Loss: 0.0717 Acc: 0.9801\n",
      "val Loss: 0.0299 Acc: 0.9913\n",
      "Epoch 5/10\n",
      "----------\n",
      "train Loss: 0.0637 Acc: 0.9815\n",
      "val Loss: 0.0277 Acc: 0.9913\n",
      "Epoch 6/10\n",
      "----------\n",
      "train Loss: 0.0560 Acc: 0.9836\n",
      "val Loss: 0.0260 Acc: 0.9926\n",
      "Epoch 7/10\n",
      "----------\n",
      "train Loss: 0.0537 Acc: 0.9846\n",
      "val Loss: 0.0265 Acc: 0.9913\n",
      "Epoch 8/10\n",
      "----------\n",
      "train Loss: 0.0474 Acc: 0.9860\n",
      "train Loss: 0.0454 Acc: 0.9866\n",
      "val Loss: 0.0195 Acc: 0.9945\n",
      "Epoch 10/10\n",
      "----------\n"
     ]
    }
   ],
   "source": [
    "# Train the model\n",
    "model = train_model(\n",
    "    model, criterion, optimizer,\n",
    "    train_loader=train_loader,\n",
    "    val_loader=val_loader,\n",
    "    num_epochs=10\n",
    ")"
   ]
  },
  {
   "cell_type": "code",
   "execution_count": null,
   "metadata": {
    "trusted": true
   },
   "outputs": [],
   "source": [
    "from sklearn.metrics import precision_score, recall_score, f1_score\n",
    "import numpy as np\n",
    "\n",
    "# Set the model to evaluation mode\n",
    "model.eval()\n",
    "\n",
    "# Initialize metrics tracking\n",
    "test_loss = 0.0\n",
    "test_correct = 0\n",
    "test_total = 0\n",
    "\n",
    "# Lists to store all predictions and labels\n",
    "all_preds = []\n",
    "all_labels = []\n",
    "\n",
    "# Disable gradient computation for evaluation\n",
    "with torch.no_grad():\n",
    "    for inputs, labels in val_loader:\n",
    "        # Move inputs and labels to the same device as the model\n",
    "        inputs, labels = inputs.to(device), labels.to(device)\n",
    "\n",
    "        # Forward pass\n",
    "        outputs = model(inputs)\n",
    "        loss = criterion(outputs, labels)\n",
    "\n",
    "        # Update test loss and accuracy\n",
    "        test_loss += loss.item()\n",
    "        _, predicted = torch.max(outputs, 1)\n",
    "        test_total += labels.size(0)\n",
    "        test_correct += (predicted == labels).sum().item()\n",
    "\n",
    "        # Store predictions and labels for metric calculation\n",
    "        all_preds.extend(predicted.cpu().numpy())\n",
    "        all_labels.extend(labels.cpu().numpy())\n",
    "\n",
    "# Convert lists to numpy arrays\n",
    "all_preds = np.array(all_preds)\n",
    "all_labels = np.array(all_labels)\n",
    "\n",
    "# Calculate metrics\n",
    "test_accuracy = 100 * test_correct / test_total\n",
    "test_loss /= len(val_loader)\n",
    "\n",
    "# Precision, Recall, F1-Score\n",
    "precision = precision_score(all_labels, all_preds, average='weighted') \n",
    "recall = recall_score(all_labels, all_preds, average='weighted')      \n",
    "f1 = f1_score(all_labels, all_preds, average='weighted')              \n",
    "\n",
    "# Print metrics\n",
    "print(f\"Test Loss: {test_loss:.4f}, Test Accuracy: {test_accuracy:.2f}%\")\n",
    "print(f\"Precision: {precision:.4f}, Recall: {recall:.4f}, F1-Score: {f1:.4f}\")\n",
    "\n",
    "# Save results to a file\n",
    "with open(\"evaluation_results_momentum.txt\", \"w\") as f:\n",
    "    f.write(\"Metric\\tValue\\n\")\n",
    "    f.write(f\"Test Loss\\t{test_loss:.4f}\\n\")\n",
    "    f.write(f\"Test Accuracy\\t{test_accuracy:.2f}%\\n\")\n",
    "    f.write(f\"Precision\\t{precision:.4f}\\n\")\n",
    "    f.write(f\"Recall\\t{recall:.4f}\\n\")\n",
    "    f.write(f\"F1-Score\\t{f1:.4f}\\n\")\n",
    "\n",
    "print(\"Evaluation results saved to 'evaluation_results.txt'\")"
   ]
  },
  {
   "cell_type": "code",
   "execution_count": null,
   "metadata": {
    "trusted": true
   },
   "outputs": [],
   "source": [
    "from sklearn.metrics import classification_report, accuracy_score\n",
    "import pandas as pd\n",
    "\n",
    "# Set the model to evaluation mode\n",
    "model.eval()\n",
    "\n",
    "class_names = full_dataset.classes\n",
    "# Initialize variables to store results\n",
    "all_labels = []\n",
    "all_predictions = []\n",
    "\n",
    "# Disable gradient computation for evaluation\n",
    "with torch.no_grad():\n",
    "    for inputs, labels in test_loader:\n",
    "        # Move inputs and labels to the same device as the model\n",
    "        inputs, labels = inputs.to(device), labels.to(device)\n",
    "\n",
    "        # Forward pass\n",
    "        outputs = model(inputs)\n",
    "\n",
    "        # Predictions\n",
    "        _, predicted = torch.max(outputs, 1)\n",
    "\n",
    "        # Collect labels and predictions for metric calculation\n",
    "        all_labels.extend(labels.cpu().numpy())\n",
    "        all_predictions.extend(predicted.cpu().numpy())\n",
    "\n",
    "# Calculate accuracy\n",
    "accuracy = accuracy_score(all_labels, all_predictions)\n",
    "\n",
    "# Generate classification report for each class\n",
    "report = classification_report(\n",
    "    all_labels, all_predictions, target_names=class_names, output_dict=True\n",
    ")\n",
    "\n",
    "# Convert the report to a DataFrame for easier saving\n",
    "report_df = pd.DataFrame(report).transpose()\n",
    "\n",
    "# Save the report to a file\n",
    "report_df.to_csv(\"class_specific_metrics.csv\", index=True)\n",
    "\n",
    "# Print accuracy and classification report\n",
    "print(f\"Accuracy: {accuracy * 100:.2f}%\")\n",
    "print(\"\\nClassification Report:\")\n",
    "print(report_df)"
   ]
  }
 ],
 "metadata": {
  "colab": {
   "provenance": []
  },
  "kaggle": {
   "accelerator": "nvidiaTeslaT4",
   "dataSources": [
    {
     "datasetId": 277323,
     "sourceId": 658267,
     "sourceType": "datasetVersion"
    }
   ],
   "dockerImageVersionId": 30822,
   "isGpuEnabled": true,
   "isInternetEnabled": true,
   "language": "python",
   "sourceType": "notebook"
  },
  "kernelspec": {
   "display_name": "Python 3",
   "language": "python",
   "name": "python3"
  },
  "language_info": {
   "codemirror_mode": {
    "name": "ipython",
    "version": 3
   },
   "file_extension": ".py",
   "mimetype": "text/x-python",
   "name": "python",
   "nbconvert_exporter": "python",
   "pygments_lexer": "ipython3",
   "version": "3.10.12"
  }
 },
 "nbformat": 4,
 "nbformat_minor": 4
}
